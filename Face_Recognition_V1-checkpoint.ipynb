{
 "cells": [
  {
   "cell_type": "code",
   "execution_count": 11,
   "id": "a871ebe6",
   "metadata": {},
   "outputs": [
    {
     "name": "stdout",
     "output_type": "stream",
     "text": [
      "[(46, 344, 136, 255), (53, 590, 182, 468), (64, 201, 219, 46)]\n",
      "There are 3 faces detected.\n"
     ]
    }
   ],
   "source": [
    "import face_recognition\n",
    "\n",
    "#input image\n",
    "image_input=\"group.jpg\"\n",
    "\n",
    "img_FR=face_recognition.load_image_file(image_input)\n",
    "face_locations=face_recognition.face_locations(img_FR)\n",
    "\n",
    "print(face_locations)\n",
    "\n",
    "#to know if there are any faces in the image\n",
    "if len(face_locations)==0:\n",
    "    print(\"No faces detected\")\n",
    "    \n",
    "elif len(face_locations)==1:\n",
    "    print(\"Only one face detected\")\n",
    "    \n",
    "elif len(face_locations)>1:\n",
    "    print(\"There are %i faces detected.\" %len(face_locations))"
   ]
  },
  {
   "cell_type": "code",
   "execution_count": 13,
   "id": "0fc02b79",
   "metadata": {},
   "outputs": [
    {
     "name": "stdout",
     "output_type": "stream",
     "text": [
      "[(46, 344, 136, 255), (53, 590, 182, 468), (64, 201, 219, 46)]\n",
      "There are 3 faces detected.\n"
     ]
    }
   ],
   "source": [
    "import face_recognition\n",
    "from PIL import Image\n",
    "\n",
    "#input image\n",
    "image_input=\"group.jpg\"\n",
    "\n",
    "img_FR=face_recognition.load_image_file(image_input)\n",
    "face_locations=face_recognition.face_locations(img_FR)\n",
    "\n",
    "print(face_locations)\n",
    "\n",
    "#to know if there are any faces in the image\n",
    "if len(face_locations)==0:\n",
    "    print(\"No faces detected\")\n",
    "    \n",
    "elif len(face_locations)==1:\n",
    "    print(\"Only one face detected\")\n",
    "    \n",
    "elif len(face_locations)>1:\n",
    "    print(\"There are %i faces detected.\" %len(face_locations))\n",
    "\n",
    "    \n",
    "#Display the image\n",
    "\n",
    "img_PIL=Image.fromarray(img_FR)\n",
    "img_PIL.show()"
   ]
  },
  {
   "cell_type": "code",
   "execution_count": 23,
   "id": "7721aea9",
   "metadata": {},
   "outputs": [
    {
     "name": "stdout",
     "output_type": "stream",
     "text": [
      "[(44, 187, 152, 79), (63, 386, 138, 312), (53, 626, 182, 497)]\n",
      "There are 3 faces detected.\n"
     ]
    }
   ],
   "source": [
    "#DRAW BOUNDING BOX ON EACH FACE IN IMAGE\n",
    "\n",
    "import face_recognition\n",
    "from PIL import Image\n",
    "from PIL import ImageDraw\n",
    "\n",
    "#input image\n",
    "image_input=\"group.jpg\"\n",
    "\n",
    "img_FR=face_recognition.load_image_file(image_input)\n",
    "face_locations=face_recognition.face_locations(img_FR)\n",
    "\n",
    "print(face_locations)\n",
    "\n",
    "#to know if there are any faces in the image\n",
    "if len(face_locations)==0:\n",
    "    print(\"No faces detected\")\n",
    "    \n",
    "elif len(face_locations)==1:\n",
    "    print(\"Only one face detected\")\n",
    "    \n",
    "elif len(face_locations)>1:\n",
    "    print(\"There are %i faces detected.\" %len(face_locations))\n",
    "\n",
    "    \n",
    "#Display the image\n",
    "\n",
    "img_PIL=Image.fromarray(img_FR)\n",
    "\n",
    "draw=ImageDraw.Draw(img_PIL)\n",
    "\n",
    "#draw.rectangle(((left, top),(right, bottom)), outline=colour, width=size)\n",
    "draw.rectangle(((44, 79),(187, 152)), outline=(255,0, 0), width=3) #red color\n",
    "draw.rectangle(((63, 312),(386, 138)), outline=(0,255, 0), width=3) #green\n",
    "draw.rectangle(((53, 497),(626, 182)), outline=(0, 0, 255), width=3) #blue\n",
    "del draw\n",
    "\n",
    "img_PIL.show()"
   ]
  },
  {
   "cell_type": "code",
   "execution_count": 47,
   "id": "22d1259f",
   "metadata": {},
   "outputs": [
    {
     "name": "stdout",
     "output_type": "stream",
     "text": [
      "This is not a match\n"
     ]
    }
   ],
   "source": [
    "#Face Recognition \n",
    "\n",
    "#Compare Yes or No\n",
    "\n",
    "import face_recognition\n",
    "from PIL import Image, ImageDraw\n",
    "\n",
    "#known image\n",
    "image_known=face_recognition.load_image_file(\"known/virat_kohli.jpg\")\n",
    "encoding_known=face_recognition.face_encodings(image_known)[0]\n",
    "\n",
    "#unknown image\n",
    "image_unknown=face_recognition.load_image_file(\"unknown/rohit_sharma_u.jpg\")\n",
    "encoding_unknown=face_recognition.face_encodings(image_unknown)[0]\n",
    "\n",
    "#compare\n",
    "matches=face_recognition.compare_faces([encoding_known], encoding_unknown)\n",
    "\n",
    "if matches[0]:\n",
    "    print(\"This is a match!\")\n",
    "    \n",
    "else:\n",
    "    print(\"This is not a match\")\n",
    "    \n",
    "    \n",
    "    \n",
    "#display the pictures\n",
    "\n",
    "img_PIL1=Image.fromarray(image_known)\n",
    "img_PIL2=Image.fromarray(image_unknown)\n",
    "\n",
    "img_PIL1.show()\n",
    "img_PIL2.show()"
   ]
  },
  {
   "cell_type": "code",
   "execution_count": 56,
   "id": "f83dbb22",
   "metadata": {},
   "outputs": [
    {
     "name": "stdout",
     "output_type": "stream",
     "text": [
      "\n",
      "Name:  Virat Kohli\n",
      "Confidence: 0.36\n",
      "\n",
      "Name:  Virat Kohli\n",
      "Confidence: 0.6\n"
     ]
    }
   ],
   "source": [
    "#IDENTIFY THE FACES\n",
    "\n",
    "import face_recognition\n",
    "from PIL import Image, ImageDraw\n",
    "import numpy as np\n",
    "\n",
    "image_input=\"group.jpg\"\n",
    "\n",
    "#known images\n",
    "image_vk=face_recognition.load_image_file(\"known/virat_kohli.jpg\")\n",
    "encoding_vk=face_recognition.face_encodings(image_vk)[0]\n",
    "\n",
    "image_rs=face_recognition.load_image_file(\"known/rohit_sharma.jpg\")\n",
    "encoding_rs=face_recognition.face_encodings(image_rs)[0]\n",
    "\n",
    "#Create arrays of encodings and names\n",
    "known_face_encodings=[\n",
    "    encoding_vk,\n",
    "    encoding_rs\n",
    "]\n",
    "\n",
    "known_face_names=[\n",
    "    \"Virat Kohli\",\n",
    "    \"Rohit Sharma\"\n",
    "]\n",
    "\n",
    "#unknown images\n",
    "test_image=face_recognition.load_image_file(image_input)\n",
    "test_face_locations=face_recognition.face_locations(test_image)\n",
    "test_face_encodings=face_recognition.face_encodings(test_image, test_face_locations)\n",
    "\n",
    "#Display the output\n",
    "img_PIL=Image.fromarray(test_image)\n",
    "\n",
    "#to draw the bounding boxes\n",
    "draw=ImageDraw.Draw(img_PIL)\n",
    "\n",
    "#Loop through all the faces in test image\n",
    "for (topY, rightX, bottomY, leftX), test_face_encoding in zip(test_face_locations, test_face_encodings):\n",
    "    matches=face_recognition.compare_faces(known_face_encodings, test_face_encoding)\n",
    "    \n",
    "    name=\"unknown\"\n",
    "    \n",
    "    #If match\n",
    "    if True in matches:\n",
    "        index=matches.index(True)\n",
    "        name=known_face_names[index]\n",
    "        confidence_level=face_recognition.face_distance(known_face_encodings, test_face_encoding)\n",
    "        print(\"\\nName: \", name)\n",
    "        print(\"Confidence:\", round(np.max(confidence_level),2))\n",
    "        \n",
    "    #draw box\n",
    "    draw.rectangle(\n",
    "        ((leftX,topY),(rightX,bottomY)),\n",
    "        outline=(255, 255, 0), width=3)\n",
    "    \n",
    "    draw.text((leftX,topY),str(name), fill=(255,255,0,255))\n",
    "del draw\n",
    "\n",
    "#display image\n",
    "img_PIL.show()"
   ]
  },
  {
   "cell_type": "code",
   "execution_count": null,
   "id": "6bb8c678",
   "metadata": {},
   "outputs": [],
   "source": []
  },
  {
   "cell_type": "code",
   "execution_count": null,
   "id": "3d43f761",
   "metadata": {},
   "outputs": [],
   "source": []
  }
 ],
 "metadata": {
  "kernelspec": {
   "display_name": "Python 3 (ipykernel)",
   "language": "python",
   "name": "python3"
  },
  "language_info": {
   "codemirror_mode": {
    "name": "ipython",
    "version": 3
   },
   "file_extension": ".py",
   "mimetype": "text/x-python",
   "name": "python",
   "nbconvert_exporter": "python",
   "pygments_lexer": "ipython3",
   "version": "3.11.4"
  }
 },
 "nbformat": 4,
 "nbformat_minor": 5
}
