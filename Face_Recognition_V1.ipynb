{
 "cells": [
  {
   "cell_type": "code",
   "execution_count": 67,
   "id": "85dd24c1",
   "metadata": {},
   "outputs": [
    {
     "name": "stdout",
     "output_type": "stream",
     "text": [
      "[(56, 573, 146, 484), (56, 155, 146, 66), (56, 364, 146, 275)]\n",
      "There are 3 faces detected.\n"
     ]
    }
   ],
   "source": [
    "import face_recognition\n",
    "\n",
    "#input image\n",
    "image_input=\"group.jpg\"\n",
    "\n",
    "img_FR=face_recognition.load_image_file(image_input)\n",
    "face_locations=face_recognition.face_locations(img_FR)\n",
    "\n",
    "print(face_locations)\n",
    "\n",
    "#to know if there are any faces in the image\n",
    "if len(face_locations)==0:\n",
    "    print(\"No faces detected\")\n",
    "    \n",
    "elif len(face_locations)==1:\n",
    "    print(\"Only one face detected\")\n",
    "    \n",
    "elif len(face_locations)>1:\n",
    "    print(\"There are %i faces detected.\" %len(face_locations))"
   ]
  },
  {
   "cell_type": "code",
   "execution_count": 68,
   "id": "b1ae8387",
   "metadata": {},
   "outputs": [
    {
     "name": "stdout",
     "output_type": "stream",
     "text": [
      "[(56, 573, 146, 484), (56, 155, 146, 66), (56, 364, 146, 275)]\n",
      "There are 3 faces detected.\n"
     ]
    }
   ],
   "source": [
    "import face_recognition\n",
    "from PIL import Image\n",
    "\n",
    "#input image\n",
    "image_input=\"group.jpg\"\n",
    "\n",
    "img_FR=face_recognition.load_image_file(image_input)\n",
    "face_locations=face_recognition.face_locations(img_FR)\n",
    "\n",
    "print(face_locations)\n",
    "\n",
    "#to know if there are any faces in the image\n",
    "if len(face_locations)==0:\n",
    "    print(\"No faces detected\")\n",
    "    \n",
    "elif len(face_locations)==1:\n",
    "    print(\"Only one face detected\")\n",
    "    \n",
    "elif len(face_locations)>1:\n",
    "    print(\"There are %i faces detected.\" %len(face_locations))\n",
    "\n",
    "    \n",
    "#Display the image\n",
    "\n",
    "img_PIL=Image.fromarray(img_FR)\n",
    "img_PIL.show()"
   ]
  },
  {
   "cell_type": "code",
   "execution_count": 70,
   "id": "2eceb295",
   "metadata": {},
   "outputs": [
    {
     "name": "stdout",
     "output_type": "stream",
     "text": [
      "[(56, 573, 146, 484), (56, 155, 146, 66), (56, 364, 146, 275)]\n",
      "There are 3 faces detected.\n"
     ]
    }
   ],
   "source": [
    "import face_recognition\n",
    "from PIL import Image, ImageDraw\n",
    "\n",
    "# Input image\n",
    "image_input = \"group.jpg\"\n",
    "\n",
    "img_FR = face_recognition.load_image_file(image_input)\n",
    "face_locations = face_recognition.face_locations(img_FR)\n",
    "\n",
    "print(face_locations)\n",
    "\n",
    "# To know if there are any faces in the image\n",
    "if len(face_locations) == 0:\n",
    "    print(\"No faces detected\")\n",
    "elif len(face_locations) == 1:\n",
    "    print(\"Only one face detected\")\n",
    "else:\n",
    "    print(\"There are %i faces detected.\" % len(face_locations))\n",
    "\n",
    "# Display the image\n",
    "img_PIL = Image.fromarray(img_FR)\n",
    "draw = ImageDraw.Draw(img_PIL)\n",
    "\n",
    "# Draw bounding boxes around each face\n",
    "for face_location in face_locations:\n",
    "    top, right, bottom, left = face_location\n",
    "    draw.rectangle(((left, top), (right, bottom)), outline=(255, 0, 0), width=3)  # Red color\n",
    "\n",
    "del draw\n",
    "img_PIL.show()\n"
   ]
  },
  {
   "cell_type": "code",
   "execution_count": 47,
   "id": "faa63a48",
   "metadata": {},
   "outputs": [
    {
     "name": "stdout",
     "output_type": "stream",
     "text": [
      "This is not a match\n"
     ]
    }
   ],
   "source": [
    "#Face Recognition \n",
    "\n",
    "#Compare Yes or No\n",
    "\n",
    "import face_recognition\n",
    "from PIL import Image, ImageDraw\n",
    "\n",
    "#known image\n",
    "image_known=face_recognition.load_image_file(\"known/virat_kohli.jpg\")\n",
    "encoding_known=face_recognition.face_encodings(image_known)[0]\n",
    "\n",
    "#unknown image\n",
    "image_unknown=face_recognition.load_image_file(\"unknown/rohit_sharma_u.jpg\")\n",
    "encoding_unknown=face_recognition.face_encodings(image_unknown)[0]\n",
    "\n",
    "#compare\n",
    "matches=face_recognition.compare_faces([encoding_known], encoding_unknown)\n",
    "\n",
    "if matches[0]:\n",
    "    print(\"This is a match!\")\n",
    "    \n",
    "else:\n",
    "    print(\"This is not a match\")\n",
    "    \n",
    "    \n",
    "    \n",
    "#display the pictures\n",
    "\n",
    "img_PIL1=Image.fromarray(image_known)\n",
    "img_PIL2=Image.fromarray(image_unknown)\n",
    "\n",
    "img_PIL1.show()\n",
    "img_PIL2.show()"
   ]
  },
  {
   "cell_type": "code",
   "execution_count": 66,
   "id": "a8227651",
   "metadata": {},
   "outputs": [
    {
     "name": "stdout",
     "output_type": "stream",
     "text": [
      "\n",
      "Name:  Rohit Sharma\n",
      "Confidence: 0.61\n",
      "\n",
      "Name:  Virat Kohli\n",
      "Confidence: 0.64\n"
     ]
    }
   ],
   "source": [
    "#IDENTIFY THE FACES\n",
    "\n",
    "import face_recognition\n",
    "from PIL import Image, ImageDraw\n",
    "import numpy as np\n",
    "\n",
    "image_input=\"group.jpg\"\n",
    "\n",
    "#known images\n",
    "image_vk=face_recognition.load_image_file(\"known/virat_kohli.jpg\")\n",
    "encoding_vk=face_recognition.face_encodings(image_vk)[0]  # Use image_vk\n",
    "\n",
    "image_rs=face_recognition.load_image_file(\"known/rohit_sharma.jpg\")\n",
    "encoding_rs=face_recognition.face_encodings(image_rs)[0]   # Use image_rs\n",
    "\n",
    "#Create arrays of encodings and names\n",
    "known_face_encodings=[\n",
    "    encoding_vk,\n",
    "    encoding_rs\n",
    "]\n",
    "\n",
    "known_face_names=[\n",
    "    \"Virat Kohli\",\n",
    "    \"Rohit Sharma\"\n",
    "]\n",
    "\n",
    "\n",
    "#unknown images\n",
    "test_image=face_recognition.load_image_file(image_input)\n",
    "test_face_locations=face_recognition.face_locations(test_image)\n",
    "test_face_encodings=face_recognition.face_encodings(test_image, test_face_locations)\n",
    "\n",
    "#Display the output\n",
    "img_PIL=Image.fromarray(test_image)\n",
    "\n",
    "#to draw the bounding boxes\n",
    "draw=ImageDraw.Draw(img_PIL)\n",
    "\n",
    "#Loop through all the faces in test image\n",
    "for (topY, rightX, bottomY, leftX), test_face_encoding in zip(test_face_locations, test_face_encodings):\n",
    "    matches=face_recognition.compare_faces(known_face_encodings, test_face_encoding)\n",
    "    \n",
    "    name=\"unknown\"\n",
    "    \n",
    "    #If match\n",
    "    if True in matches:\n",
    "        index=matches.index(True)\n",
    "        name=known_face_names[index]\n",
    "        confidence_level=face_recognition.face_distance(known_face_encodings, test_face_encoding)\n",
    "        print(\"\\nName: \", name)\n",
    "        print(\"Confidence:\", round(np.max(confidence_level),2))\n",
    "        \n",
    "    #draw box\n",
    "    draw.rectangle(\n",
    "        ((leftX,topY),(rightX,bottomY)),\n",
    "        outline=(255, 255, 0), width=3)\n",
    "    \n",
    "    draw.text((leftX,topY-20),str(name)+\" \"+str(round(np.max(confidence_level),2)), fill=(255,255,0,255)) #shift wideth:topY-2\n",
    "del draw\n",
    "\n",
    "#display image\n",
    "img_PIL.show()"
   ]
  },
  {
   "cell_type": "code",
   "execution_count": null,
   "id": "4d71eece",
   "metadata": {},
   "outputs": [],
   "source": []
  },
  {
   "cell_type": "code",
   "execution_count": null,
   "id": "5429846a",
   "metadata": {},
   "outputs": [],
   "source": []
  }
 ],
 "metadata": {
  "kernelspec": {
   "display_name": "Python 3 (ipykernel)",
   "language": "python",
   "name": "python3"
  },
  "language_info": {
   "codemirror_mode": {
    "name": "ipython",
    "version": 3
   },
   "file_extension": ".py",
   "mimetype": "text/x-python",
   "name": "python",
   "nbconvert_exporter": "python",
   "pygments_lexer": "ipython3",
   "version": "3.11.4"
  }
 },
 "nbformat": 4,
 "nbformat_minor": 5
}
